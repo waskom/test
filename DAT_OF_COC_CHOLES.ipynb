{
 "cells": [
  {
   "cell_type": "code",
   "execution_count": 63,
   "metadata": {
    "collapsed": false,
    "scrolled": true
   },
   "outputs": [],
   "source": [
    "from htmd import *\n",
    "from htmd.builder.builder import *\n",
    "htmd.config(viewer='vmd')"
   ]
  },
  {
   "cell_type": "markdown",
   "metadata": {},
   "source": [
    "charmm.listFiles()"
   ]
  },
  {
   "cell_type": "code",
   "execution_count": 64,
   "metadata": {
    "collapsed": true
   },
   "outputs": [],
   "source": [
    "from htmd.builder.builder import *\n",
    "topos  = ['top/top_all36_prot.rtf','top/top_all36_lipid.rtf','top/top_water_ions.rtf','top/top_all36_cgenff.rtf', 'top/cocaine.rtf'] #,'top/ga299.rtf'] #'fluoxetine.rtf']\n",
    "params = ['par/par_all36_prot.prm','par/par_all36_lipid.prm','par/par_water_ions.prm','par/par_all36_cgenff.prm', 'par/cocaine.prm'] #, 'par/ga299.prm'] #, 'fluoxetine.prm']\n",
    "streams = ['/Users/waskom/miniconda3/lib/python3.5/site-packages/htmd/builder/charmmfiles/str/lipid/toppar_all36_lipid_cholesterol.str']"
   ]
  },
  {
   "cell_type": "code",
   "execution_count": 65,
   "metadata": {
    "collapsed": false
   },
   "outputs": [
    {
     "name": "stderr",
     "output_type": "stream",
     "text": [
      "2017-02-14 13:03:02,125 - htmd.molecule.molecule - INFO - Removed 4230 atoms. 4249 atoms remaining in the molecule.\n"
     ]
    }
   ],
   "source": [
    "prot = Molecule('protein.pdb')\n",
    "prot.filter('protein and noh')\n",
    "\n",
    "#prot.filter('protein or noh or not resname MOL')\n",
    "prot.set('segid','P');\n",
    "#newprot = autoSegment(prot,'protein','P')\n",
    "#newprot = autoSegment(prot,'protein','P')\n",
    "prot.center()"
   ]
  },
  {
   "cell_type": "code",
   "execution_count": 66,
   "metadata": {
    "collapsed": false
   },
   "outputs": [],
   "source": [
    "lig = Molecule('Cocaine.pdb')\n",
    "lig.set('segid','L');\n",
    "lcenter=np.mean(lig.get('coords'),axis=0)\n",
    "#newlcenter=[np.random.uniform(-10, 10), np.random.uniform(-10, 10),  43 ]\n",
    "#lig.rotateBy(uniformRandomRotation(), lcenter)\n",
    "#lig.moveBy(newlcenter-lcenter)\n",
    "#mol.append(lig)\n",
    "prot.append(lig)"
   ]
  },
  {
   "cell_type": "code",
   "execution_count": 67,
   "metadata": {
    "collapsed": true
   },
   "outputs": [],
   "source": [
    "lig = Molecule('Cholesterol.pdb')\n",
    "lig.set('segid','C');\n",
    "lcenter=np.mean(lig.get('coords'),axis=0)\n",
    "#newlcenter=[np.random.uniform(-10, 10), np.random.uniform(-10, 10),  43 ]\n",
    "#lig.rotateBy(uniformRandomRotation(), lcenter)\n",
    "#lig.moveBy(newlcenter-lcenter)\n",
    "#mol.append(lig)\n",
    "prot.append(lig)"
   ]
  },
  {
   "cell_type": "code",
   "execution_count": 68,
   "metadata": {
    "collapsed": false
   },
   "outputs": [],
   "source": [
    "prot.view()"
   ]
  },
  {
   "cell_type": "code",
   "execution_count": 69,
   "metadata": {
    "collapsed": true
   },
   "outputs": [],
   "source": [
    "memb = Molecule('membrane_c36.pdb')\n",
    "#memb.set('segid','M');\n",
    "pcenter = np.mean(prot.get('coords','protein'),axis=0)\n",
    "mcenter = np.mean(memb.get('coords'),axis=0)\n",
    "memb.moveBy(pcenter-mcenter)\n",
    "mol = embed(prot,memb)"
   ]
  },
  {
   "cell_type": "code",
   "execution_count": 70,
   "metadata": {
    "collapsed": false
   },
   "outputs": [],
   "source": [
    "mol.reps.add(sel='protein', style='NewCartoon', color='Secondary Structure')\n",
    "mol.reps.add(sel='ions', style='VDW')\n",
    "mol.reps.add(sel='lipids', style='Lines')\n",
    "mol.view()"
   ]
  },
  {
   "cell_type": "code",
   "execution_count": 71,
   "metadata": {
    "collapsed": false,
    "scrolled": true
   },
   "outputs": [
    {
     "name": "stderr",
     "output_type": "stream",
     "text": [
      "2017-02-14 13:03:09,530 - htmd.builder.solvate - INFO - Using water pdb file at: /Users/waskom/miniconda3/lib/python3.5/site-packages/htmd/builder/wat.pdb\n",
      "2017-02-14 13:03:10,671 - htmd.builder.solvate - INFO - Replicating 8 water segments, 2 by 2 by 2\n"
     ]
    },
    {
     "name": "stdout",
     "output_type": "stream",
     "text": [
      "Solvating: 100% (8/8) [############################################] eta 00:00 \\\n"
     ]
    },
    {
     "name": "stderr",
     "output_type": "stream",
     "text": [
      "2017-02-14 13:03:48,636 - htmd.builder.solvate - INFO - After removing water molecules colliding with other molecules, 27577 water molecules were added to the system.\n"
     ]
    }
   ],
   "source": [
    "coo = mol.get('coords','noh and (lipids or protein)')\n",
    "m = np.min(coo, axis=0) + [0, 0, -20]\n",
    "M = np.max(coo, axis=0) + [0, 0, 20]\n",
    "smol = solvate(mol, minmax=np.vstack((m,M)))\n",
    "#smol.reps.add(sel='segid L', style='Licorice')\n",
    "smol.reps.add(sel='water', style='Lines')\n",
    "smol.view()"
   ]
  },
  {
   "cell_type": "code",
   "execution_count": 72,
   "metadata": {
    "collapsed": false,
    "scrolled": true
   },
   "outputs": [
    {
     "name": "stderr",
     "output_type": "stream",
     "text": [
      "2017-02-14 13:04:02,918 - htmd.builder.charmm - WARNING - Multiple (2) rtf topology sections found in /Users/waskom/miniconda3/lib/python3.5/site-packages/htmd/builder/charmmfiles/str/lipid/toppar_all36_lipid_cholesterol.str stream file.\n",
      "2017-02-14 13:04:02,919 - htmd.builder.charmm - WARNING - Multiple (2) prm parameter sections found in /Users/waskom/miniconda3/lib/python3.5/site-packages/htmd/builder/charmmfiles/str/lipid/toppar_all36_lipid_cholesterol.str stream file.\n",
      "2017-02-14 13:04:14,737 - htmd.builder.charmm - INFO - Writing out segments.\n",
      "2017-02-14 13:09:13,762 - htmd.molecule.writers - WARNING - Field \"serial\" of PDB overflows. Your data will be truncated to 5 characters.\n",
      "2017-02-14 13:09:18,965 - htmd.molecule.writers - WARNING - Field \"serial\" of PDB overflows. Your data will be truncated to 5 characters.\n",
      "2017-02-14 13:09:24,151 - htmd.molecule.writers - WARNING - Field \"serial\" of PDB overflows. Your data will be truncated to 5 characters.\n",
      "2017-02-14 13:09:29,352 - htmd.molecule.writers - WARNING - Field \"serial\" of PDB overflows. Your data will be truncated to 5 characters.\n",
      "2017-02-14 13:09:34,536 - htmd.molecule.writers - WARNING - Field \"serial\" of PDB overflows. Your data will be truncated to 5 characters.\n",
      "2017-02-14 13:09:39,788 - htmd.molecule.writers - WARNING - Field \"serial\" of PDB overflows. Your data will be truncated to 5 characters.\n",
      "2017-02-14 13:10:01,184 - htmd.builder.builder - INFO - 0 disulfide bonds were added\n",
      "2017-02-14 13:10:01,495 - htmd.builder.charmm - INFO - Starting the build.\n",
      "2017-02-14 13:10:02,700 - htmd.builder.charmm - WARNING - Failed to set coordinates for 40 atoms.\n",
      "2017-02-14 13:10:02,701 - htmd.builder.charmm - WARNING - Poorly guessed coordinates for 13 atoms.\n",
      "2017-02-14 13:10:02,701 - htmd.builder.charmm - WARNING - Please check /users/waskom/Katz_Paper/Simulations/COC_CHO_NEW/build/log.txt for further information.\n",
      "2017-02-14 13:10:02,702 - htmd.builder.charmm - INFO - Finished building.\n",
      "2017-02-14 13:10:05,128 - htmd.molecule.readers - WARNING - Reading PDB file with more than 99999 atoms. Bond information can be wrong.\n",
      "2017-02-14 13:10:05,271 - htmd.molecule.readers - INFO - Non-integer serials were read. For safety we will discard all bond information and serials will be assigned automatically.\n",
      "2017-02-14 13:10:09,305 - htmd.builder.ionize - INFO - Adding 0 anions + 5 cations for neutralizing and 190 ions for the given salt concentration.\n",
      "2017-02-14 13:10:10,009 - htmd.builder.ionize - INFO - Min distance of ions from molecule: 5A\n",
      "2017-02-14 13:10:10,010 - htmd.builder.ionize - INFO - Min distance between ions: 5A\n",
      "2017-02-14 13:10:10,010 - htmd.builder.ionize - INFO - Placing 195 ions.\n",
      "2017-02-14 13:12:50,545 - htmd.builder.charmm - INFO - Writing out segments.\n",
      "2017-02-14 13:17:45,327 - htmd.molecule.writers - WARNING - Field \"serial\" of PDB overflows. Your data will be truncated to 5 characters.\n",
      "2017-02-14 13:17:50,488 - htmd.molecule.writers - WARNING - Field \"serial\" of PDB overflows. Your data will be truncated to 5 characters.\n",
      "2017-02-14 13:17:55,645 - htmd.molecule.writers - WARNING - Field \"serial\" of PDB overflows. Your data will be truncated to 5 characters.\n",
      "2017-02-14 13:18:00,739 - htmd.molecule.writers - WARNING - Field \"serial\" of PDB overflows. Your data will be truncated to 5 characters.\n",
      "2017-02-14 13:18:05,947 - htmd.molecule.writers - WARNING - Field \"serial\" of PDB overflows. Your data will be truncated to 5 characters.\n",
      "2017-02-14 13:18:11,074 - htmd.molecule.writers - WARNING - Field \"serial\" of PDB overflows. Your data will be truncated to 5 characters.\n",
      "2017-02-14 13:18:16,237 - htmd.molecule.writers - WARNING - Field \"serial\" of PDB overflows. Your data will be truncated to 5 characters.\n",
      "2017-02-14 13:18:19,331 - htmd.builder.charmm - INFO - Starting the build.\n",
      "2017-02-14 13:18:20,486 - htmd.builder.charmm - WARNING - Failed to set coordinates for 40 atoms.\n",
      "2017-02-14 13:18:20,487 - htmd.builder.charmm - WARNING - Poorly guessed coordinates for 13 atoms.\n",
      "2017-02-14 13:18:20,487 - htmd.builder.charmm - WARNING - Please check /users/waskom/Katz_Paper/Simulations/COC_CHO_NEW/build/log.txt for further information.\n",
      "2017-02-14 13:18:20,488 - htmd.builder.charmm - INFO - Finished building.\n",
      "2017-02-14 13:18:22,876 - htmd.molecule.readers - WARNING - Reading PDB file with more than 99999 atoms. Bond information can be wrong.\n",
      "2017-02-14 13:18:23,025 - htmd.molecule.readers - INFO - Non-integer serials were read. For safety we will discard all bond information and serials will be assigned automatically.\n"
     ]
    }
   ],
   "source": [
    "molbuilt = charmm.build(smol, topo=topos, param=params,stream=streams, \n",
    "                        outdir='/users/waskom/Katz_Paper/Simulations/COC_CHO_NEW/build', saltconc=0.15)"
   ]
  },
  {
   "cell_type": "code",
   "execution_count": 73,
   "metadata": {
    "collapsed": false
   },
   "outputs": [
    {
     "name": "stderr",
     "output_type": "stream",
     "text": [
      "2017-02-14 13:18:34,168 - htmd.molecule.readers - WARNING - Reading PDB file with more than 99999 atoms. Bond information can be wrong.\n",
      "2017-02-14 13:18:34,307 - htmd.molecule.readers - INFO - Non-integer serials were read. For safety we will discard all bond information and serials will be assigned automatically.\n",
      "2017-02-14 13:18:42,759 - htmd.molecule.writers - WARNING - Field \"serial\" of PDB overflows. Your data will be truncated to 5 characters.\n"
     ]
    }
   ],
   "source": [
    "from htmd.protocols.equilibration_v1 import Equilibration\n",
    "md = Equilibration()\n",
    "md.numsteps = 10000000\n",
    "md.temperature = 310\n",
    "#md.reference = 'protein and resid 293'\n",
    "#md.selection = 'segname L and noh'\n",
    "#md.box = [-25, 25, -25, 25, 43, 45]\n",
    "#md.k = 5\n",
    "#md.useconstantratio = True\n",
    "md.write('/users/waskom/Katz_Paper/Simulations/COC_CHO_NEW/build','DAT_equil1')"
   ]
  },
  {
   "cell_type": "code",
   "execution_count": null,
   "metadata": {
    "collapsed": true
   },
   "outputs": [],
   "source": []
  }
 ],
 "metadata": {
  "anaconda-cloud": {},
  "kernelspec": {
   "display_name": "Python 3",
   "language": "python",
   "name": "python3"
  },
  "language_info": {
   "codemirror_mode": {
    "name": "ipython",
    "version": 3
   },
   "file_extension": ".py",
   "mimetype": "text/x-python",
   "name": "python",
   "nbconvert_exporter": "python",
   "pygments_lexer": "ipython3",
   "version": "3.5.2"
  }
 },
 "nbformat": 4,
 "nbformat_minor": 0
}
